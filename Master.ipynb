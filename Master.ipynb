{
 "cells": [
  {
   "cell_type": "markdown",
   "metadata": {},
   "source": [
    "## Soumil Nitin Shah \n",
    "Bachelor in Electronic Engineering |\n",
    "Masters in Electrical Engineering | \n",
    "Master in Computer Engineering |\n",
    "\n",
    "* Website : https://soumilshah.herokuapp.com\n",
    "* Github: https://github.com/soumilshah1995\n",
    "* Linkedin: https://www.linkedin.com/in/shah-soumil/\n",
    "* Blog: https://soumilshah1995.blogspot.com/\n",
    "* Youtube : https://www.youtube.com/channel/UC_eOodxvwS_H7x2uLQa-svw?view_as=subscriber\n",
    "* Facebook Page : https://www.facebook.com/soumilshah1995/\n",
    "* Email : shahsoumil519@gmail.com\n",
    "* projects : https://soumilshah.herokuapp.com/project\n",
    "\n",
    "\n",
    "Hello! I’m Soumil Nitin Shah, a Software and Hardware Developer based in New York City. I have completed by Bachelor in Electronic Engineering and my Double master’s in Computer and Electrical Engineering. I Develop Python Based Cross Platform Desktop Application , Webpages , Software, REST API, Database and much more I have more than 2 Years of Experience in Python\n",
    "\n",
    "#### "
   ]
  },
  {
   "cell_type": "code",
   "execution_count": 4,
   "metadata": {},
   "outputs": [],
   "source": [
    "try:\n",
    "\n",
    "    import pandas as pd\n",
    "    import seaborn as sns\n",
    "\n",
    "    from sklearn.model_selection import train_test_split\n",
    "    from sklearn.datasets import load_breast_cancer\n",
    "\n",
    "    # Reporting the Data\n",
    "    from sklearn.metrics import classification_report, confusion_matrix\n",
    "    import scikitplot as skplt\n",
    "    \n",
    "    # Linear Classification Models\n",
    "    from sklearn.linear_model import LogisticRegression\n",
    "    from sklearn.naive_bayes import MultinomialNB\n",
    "    from sklearn.preprocessing import StandardScaler\n",
    "    from sklearn.neighbors import KNeighborsClassifier\n",
    "    from sklearn.tree import DecisionTreeClassifier\n",
    "    from sklearn.ensemble import RandomForestClassifier\n",
    "    from sklearn.svm import SVC\n",
    "    from sklearn.model_selection import learning_curve, GridSearchCV\n",
    "    from sklearn.linear_model import SGDClassifier\n",
    "except:\n",
    "    print(\"Some Modules are Missings ...... \")"
   ]
  },
  {
   "cell_type": "code",
   "execution_count": 5,
   "metadata": {
    "scrolled": false
   },
   "outputs": [
    {
     "name": "stdout",
     "output_type": "stream",
     "text": [
      "=================================================================\n",
      "\n",
      "\n",
      "\t0\tmodel_logistic_rg\n",
      "\n",
      "\n",
      "LogisticRegression(C=1.0, class_weight=None, dual=False, fit_intercept=True,\n",
      "          intercept_scaling=1, max_iter=100, multi_class='warn',\n",
      "          n_jobs=None, penalty='l2', random_state=None, solver='warn',\n",
      "          tol=0.0001, verbose=0, warm_start=False)\n",
      "\n",
      "\n",
      "              precision    recall  f1-score   support\n",
      "\n",
      "           0       0.96      0.89      0.92        83\n",
      "           1       0.94      0.98      0.96       145\n",
      "\n",
      "   micro avg       0.95      0.95      0.95       228\n",
      "   macro avg       0.95      0.94      0.94       228\n",
      "weighted avg       0.95      0.95      0.95       228\n",
      "\n",
      "\n",
      "\n",
      "[[ 74   9]\n",
      " [  3 142]]\n",
      "\n",
      "\n",
      "=================================================================\n",
      "\n",
      "\n",
      "\t1\tmodel_multibinomial\n",
      "\n",
      "\n",
      "MultinomialNB(alpha=1.0, class_prior=None, fit_prior=True)\n",
      "\n",
      "\n",
      "              precision    recall  f1-score   support\n",
      "\n",
      "           0       0.90      0.83      0.86        83\n",
      "           1       0.91      0.94      0.93       145\n",
      "\n",
      "   micro avg       0.90      0.90      0.90       228\n",
      "   macro avg       0.90      0.89      0.89       228\n",
      "weighted avg       0.90      0.90      0.90       228\n",
      "\n",
      "\n",
      "\n",
      "[[ 69  14]\n",
      " [  8 137]]\n",
      "\n",
      "\n",
      "=================================================================\n",
      "\n",
      "\n",
      "\t2\tmodel_svc\n",
      "\n",
      "\n",
      "GridSearchCV(cv='warn', error_score='raise-deprecating',\n",
      "       estimator=SVC(C=1.0, cache_size=200, class_weight=None, coef0=0.0,\n",
      "  decision_function_shape='ovr', degree=3, gamma='auto_deprecated',\n",
      "  kernel='rbf', max_iter=-1, probability=False, random_state=None,\n",
      "  shrinking=True, tol=0.001, verbose=False),\n",
      "       fit_params=None, iid='warn', n_jobs=None,\n",
      "       param_grid={'C': [0.1, 1, 10, 100, 1000], 'gamma': [1, 0.1, 0.01, 0.01, 0.0001]},\n",
      "       pre_dispatch='2*n_jobs', refit=True, return_train_score='warn',\n",
      "       scoring=None, verbose=0)\n",
      "\n",
      "\n"
     ]
    },
    {
     "name": "stderr",
     "output_type": "stream",
     "text": [
      "/anaconda3/lib/python3.7/site-packages/sklearn/linear_model/logistic.py:433: FutureWarning: Default solver will be changed to 'lbfgs' in 0.22. Specify a solver to silence this warning.\n",
      "  FutureWarning)\n",
      "/anaconda3/lib/python3.7/site-packages/sklearn/model_selection/_split.py:2053: FutureWarning: You should specify a value for 'cv' instead of relying on the default value. The default value will change from 3 to 5 in version 0.22.\n",
      "  warnings.warn(CV_WARNING, FutureWarning)\n"
     ]
    },
    {
     "name": "stdout",
     "output_type": "stream",
     "text": [
      "              precision    recall  f1-score   support\n",
      "\n",
      "           0       0.90      0.89      0.90        83\n",
      "           1       0.94      0.94      0.94       145\n",
      "\n",
      "   micro avg       0.93      0.93      0.93       228\n",
      "   macro avg       0.92      0.92      0.92       228\n",
      "weighted avg       0.93      0.93      0.93       228\n",
      "\n",
      "\n",
      "\n",
      "[[ 74   9]\n",
      " [  8 137]]\n",
      "\n",
      "\n",
      "=================================================================\n",
      "\n",
      "\n",
      "\t3\tmodel_decision_tree\n",
      "\n",
      "\n",
      "DecisionTreeClassifier(class_weight=None, criterion='gini', max_depth=None,\n",
      "            max_features=None, max_leaf_nodes=None,\n",
      "            min_impurity_decrease=0.0, min_impurity_split=None,\n",
      "            min_samples_leaf=1, min_samples_split=2,\n",
      "            min_weight_fraction_leaf=0.0, presort=False, random_state=None,\n",
      "            splitter='best')\n",
      "\n",
      "\n",
      "              precision    recall  f1-score   support\n",
      "\n",
      "           0       0.90      0.86      0.88        83\n",
      "           1       0.92      0.94      0.93       145\n",
      "\n",
      "   micro avg       0.91      0.91      0.91       228\n",
      "   macro avg       0.91      0.90      0.90       228\n",
      "weighted avg       0.91      0.91      0.91       228\n",
      "\n",
      "\n",
      "\n",
      "[[ 71  12]\n",
      " [  8 137]]\n",
      "\n",
      "\n",
      "=================================================================\n",
      "\n",
      "\n",
      "\t4\tmodel_random_forest\n",
      "\n",
      "\n",
      "RandomForestClassifier(bootstrap=True, class_weight=None, criterion='gini',\n",
      "            max_depth=None, max_features='auto', max_leaf_nodes=None,\n",
      "            min_impurity_decrease=0.0, min_impurity_split=None,\n",
      "            min_samples_leaf=1, min_samples_split=2,\n",
      "            min_weight_fraction_leaf=0.0, n_estimators='warn', n_jobs=None,\n",
      "            oob_score=False, random_state=None, verbose=0,\n",
      "            warm_start=False)\n",
      "\n",
      "\n",
      "              precision    recall  f1-score   support\n",
      "\n",
      "           0       0.89      0.94      0.91        83\n",
      "           1       0.96      0.93      0.95       145\n",
      "\n",
      "   micro avg       0.93      0.93      0.93       228\n",
      "   macro avg       0.93      0.94      0.93       228\n",
      "weighted avg       0.94      0.93      0.93       228\n",
      "\n",
      "\n",
      "\n",
      "[[ 78   5]\n",
      " [ 10 135]]\n",
      "\n",
      "\n"
     ]
    },
    {
     "name": "stderr",
     "output_type": "stream",
     "text": [
      "/anaconda3/lib/python3.7/site-packages/sklearn/ensemble/forest.py:246: FutureWarning: The default value of n_estimators will change from 10 in version 0.20 to 100 in 0.22.\n",
      "  \"10 in version 0.20 to 100 in 0.22.\", FutureWarning)\n"
     ]
    },
    {
     "name": "stdout",
     "output_type": "stream",
     "text": [
      "=================================================================\n",
      "\n",
      "\n",
      "\t5\tmodel_SGD\n",
      "\n",
      "\n",
      "SGDClassifier(alpha=0.0001, average=False, class_weight=None,\n",
      "       early_stopping=False, epsilon=0.1, eta0=0.0, fit_intercept=True,\n",
      "       l1_ratio=0.15, learning_rate='optimal', loss='hinge', max_iter=100,\n",
      "       n_iter=None, n_iter_no_change=5, n_jobs=None, penalty='l2',\n",
      "       power_t=0.5, random_state=None, shuffle=True, tol=None,\n",
      "       validation_fraction=0.1, verbose=0, warm_start=False)\n",
      "\n",
      "\n",
      "              precision    recall  f1-score   support\n",
      "\n",
      "           0       0.91      0.86      0.88        83\n",
      "           1       0.92      0.95      0.94       145\n",
      "\n",
      "   micro avg       0.92      0.92      0.92       228\n",
      "   macro avg       0.92      0.90      0.91       228\n",
      "weighted avg       0.92      0.92      0.92       228\n",
      "\n",
      "\n",
      "\n",
      "[[ 71  12]\n",
      " [  7 138]]\n",
      "\n",
      "\n"
     ]
    },
    {
     "name": "stderr",
     "output_type": "stream",
     "text": [
      "/anaconda3/lib/python3.7/site-packages/sklearn/linear_model/stochastic_gradient.py:183: FutureWarning: max_iter and tol parameters have been added in SGDClassifier in 0.19. If max_iter is set but tol is left unset, the default value for tol in 0.19 and 0.20 will be None (which is equivalent to -infinity, so it has no effect) but will change in 0.21 to 1e-3. Specify tol to silence this warning.\n",
      "  FutureWarning)\n"
     ]
    },
    {
     "data": {
      "image/png": "[encoded data removed]",
      "text/plain": [
       "<Figure size 432x432 with 2 Axes>"
      ]
     },
     "metadata": {
      "needs_background": "light"
     },
     "output_type": "display_data"
    },
    {
     "data": {
      "image/png": "[encoded data removed]",
      "text/plain": [
       "<Figure size 432x432 with 2 Axes>"
      ]
     },
     "metadata": {
      "needs_background": "light"
     },
     "output_type": "display_data"
    },
    {
     "data": {
      "image/png": "[encoded data removed]",
      "text/plain": [
       "<Figure size 432x432 with 2 Axes>"
      ]
     },
     "metadata": {
      "needs_background": "light"
     },
     "output_type": "display_data"
    },
    {
     "data": {
      "image/png": "[encoded data removed]",
      "text/plain": [
       "<Figure size 432x432 with 2 Axes>"
      ]
     },
     "metadata": {
      "needs_background": "light"
     },
     "output_type": "display_data"
    },
    {
     "data": {
      "image/png": "[encoded data removed]",
      "text/plain": [
       "<Figure size 432x432 with 2 Axes>"
      ]
     },
     "metadata": {
      "needs_background": "light"
     },
     "output_type": "display_data"
    },
    {
     "data": {
      "image/png": "[encoded data removed]",
      "text/plain": [
       "<Figure size 432x432 with 2 Axes>"
      ]
     },
     "metadata": {
      "needs_background": "light"
     },
     "output_type": "display_data"
    }
   ],
   "source": [
    "\n",
    "\n",
    "__Name__ = [\"Shah Soumil Nitin\"]\n",
    "__Email__ = [\"soushah@my.bridgeport.edu\",\"shahsoumil519@gmail.com\"]\n",
    "__Version__ = \"1.0.0\"\n",
    "__Github__ = \"https://github.com/soumilshah1995\"\n",
    "__Website__ = \"https://soumilshah.herokuapp.com/\"\n",
    "__Blog__ = \"https://soumilshah1995.blogspot.com/\"\n",
    "__Youtube__ = \"https://www.youtube.com/channel/UC_eOodxvwS_H7x2uLQa-svw?view_as=subscriber\"\n",
    "__FaceBook__ = \"https://www.facebook.com/soumilshah1995/\"\n",
    "__Project__ = \"https://soumilshah.herokuapp.com/project\"\n",
    "\n",
    "Description = \"\"\"\n",
    "    Hello! I’m Soumil Nitin Shah, a Software and Hardware Developer based in New York City.\n",
    "    I have completed by Bachelor in Electronic Engineering and my Double master’s in Computer and Electrical Engineering.\n",
    "    I Develop Python Based Cross Platform Desktop Application , Webpages , Software, REST API, Database and much more\n",
    "    I have more than 2 Years of Experience in Python\n",
    "\"\"\"\n",
    "\n",
    "try:\n",
    "\n",
    "    import pandas as pd\n",
    "    import seaborn as sns\n",
    "\n",
    "    from sklearn.model_selection import train_test_split\n",
    "    from sklearn.datasets import load_breast_cancer\n",
    "\n",
    "    # Reporting the Data\n",
    "    from sklearn.metrics import classification_report, confusion_matrix\n",
    "    import scikitplot as skplt\n",
    "\n",
    "\n",
    "    # Linear Classification Models\n",
    "    from sklearn.linear_model import LogisticRegression\n",
    "    from sklearn.naive_bayes import MultinomialNB\n",
    "    from sklearn.preprocessing import StandardScaler\n",
    "    from sklearn.neighbors import KNeighborsClassifier\n",
    "    from sklearn.tree import DecisionTreeClassifier\n",
    "    from sklearn.ensemble import RandomForestClassifier\n",
    "    from sklearn.svm import SVC\n",
    "    from sklearn.model_selection import learning_curve, GridSearchCV\n",
    "    from sklearn.linear_model import SGDClassifier\n",
    "except:\n",
    "    print(\"Some Modules are Missings ...... \")\n",
    "\n",
    "\n",
    "class SciKitMaster(object):\n",
    "\n",
    "    def __init__(self):\n",
    "        self.X_Train, self.X_Test, self.Y_Train, self.Y_Test = self.preprocess_data\n",
    "\n",
    "        self.param_grid = {'C': [0.1, 1, 10, 100, 1000],\n",
    "                           'gamma': [1, 0.1, 0.01, 0.01, 0.0001]}\n",
    "        self.Models = {\n",
    "            \"model_logistic_rg\": LogisticRegression(),\n",
    "            \"model_multibinomial\": MultinomialNB(),\n",
    "            \"model_svc\": GridSearchCV(SVC(), param_grid=self.param_grid),\n",
    "            'model_decision_tree': DecisionTreeClassifier(),\n",
    "            'model_random_forest': RandomForestClassifier(),\n",
    "            'model_SGD': SGDClassifier(loss=\"hinge\", penalty=\"l2\", max_iter=100)}\n",
    "\n",
    "    @property\n",
    "    def preprocess_data(self):\n",
    "\n",
    "        df = pd.DataFrame(data=load_breast_cancer()[\"data\"], columns=load_breast_cancer()[\"feature_names\"])\n",
    "\n",
    "        df[\"target\"] = load_breast_cancer()[\"target\"]\n",
    "\n",
    "        X_Data = df[['mean radius', 'mean texture', 'mean perimeter', 'mean area',\n",
    "                     'mean smoothness', 'mean compactness', 'mean concavity',\n",
    "                     'mean concave points', 'mean symmetry', 'mean fractal dimension',\n",
    "                     'radius error', 'texture error', 'perimeter error', 'area error',\n",
    "                     'smoothness error', 'compactness error', 'concavity error',\n",
    "                     'concave points error', 'symmetry error', 'fractal dimension error',\n",
    "                     'worst radius', 'worst texture', 'worst perimeter', 'worst area',\n",
    "                     'worst smoothness', 'worst compactness', 'worst concavity',\n",
    "                     'worst concave points', 'worst symmetry', 'worst fractal dimension']]\n",
    "\n",
    "        Y_Data = df[\"target\"]\n",
    "        X_Train, X_Test, Y_Train, Y_Test = train_test_split(X_Data, Y_Data, test_size=0.4, random_state=101)\n",
    "\n",
    "        return X_Train, X_Test, Y_Train, Y_Test\n",
    "\n",
    "    @property\n",
    "    def Train_Test_Architecture(self):\n",
    "\n",
    "        for counter, model in enumerate(self.Models):\n",
    "            print(\"=\"*65)\n",
    "            print(\"\\n\")\n",
    "            print(\"\\t{}\\t{}\".format(counter, model))\n",
    "            print(\"\\n\")\n",
    "            \n",
    "            print(self.Models.get(model))\n",
    "            print(\"\\n\")\n",
    "            model = self.Models.get(model)\n",
    "            model.fit(self.X_Train, self.Y_Train)\n",
    "            pred = model.predict(self.X_Test)\n",
    "            \n",
    "            report = classification_report(self.Y_Test, pred)\n",
    "            print(report)\n",
    "            print(\"\\n\")\n",
    "            print(confusion_matrix(self.Y_Test, pred))\n",
    "            print(\"\\n\")\n",
    "            skplt.metrics.plot_confusion_matrix(self.Y_Test, pred, figsize=(6,6), title=\"Confusion Matrix {}\".format(counter))\n",
    "            \n",
    "\n",
    "\n",
    "if __name__  == \"__main__\":\n",
    "    neural = SciKitMaster()\n",
    "    neural.Train_Test_Architecture"
   ]
  }
 ],
 "metadata": {
  "kernelspec": {
   "display_name": "Python 3",
   "language": "python",
   "name": "python3"
  },
  "language_info": {
   "codemirror_mode": {
    "name": "ipython",
    "version": 3
   },
   "file_extension": ".py",
   "mimetype": "text/x-python",
   "name": "python",
   "nbconvert_exporter": "python",
   "pygments_lexer": "ipython3",
   "version": "3.7.3"
  }
 },
 "nbformat": 4,
 "nbformat_minor": 2
}
